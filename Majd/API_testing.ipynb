{
 "cells": [
  {
   "cell_type": "code",
   "execution_count": null,
   "metadata": {},
   "outputs": [],
   "source": [
    "import requests\n",
    "\n",
    "apikey=''\n",
    "\n",
    "def get_lat_lng(address):\n",
    "    url = f\"https://maps.googleapis.com/maps/api/geocode/json?address={address}&key={apikey}\"\n",
    "    response = requests.get(url)\n",
    "    data = response.json()\n",
    "\n",
    "    if data['status'] == 'OK':\n",
    "        result = data['results'][0]\n",
    "        lat = result['geometry']['location']['lat']\n",
    "        lng = result['geometry']['location']['lng']\n",
    "        return lat, lng\n",
    "    else:\n",
    "        return None\n",
    "\n",
    "# Example usage\n",
    "address = \"1600 Amphitheatre Parkway, Mountain View, CA\"\n",
    "lat, lng = get_lat_lng(address)\n",
    "print(f\"Latitude: {lat}, Longitude: {lng}\")"
   ]
  }
 ],
 "metadata": {
  "language_info": {
   "name": "python"
  }
 },
 "nbformat": 4,
 "nbformat_minor": 2
}
